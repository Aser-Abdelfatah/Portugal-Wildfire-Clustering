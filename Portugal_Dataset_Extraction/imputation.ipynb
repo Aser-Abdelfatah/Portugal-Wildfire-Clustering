{
 "cells": [
  {
   "cell_type": "markdown",
   "metadata": {},
   "source": [
    "This file is for performing data imputation to estimate missing values in the Portugal wildfire dataset"
   ]
  },
  {
   "cell_type": "code",
   "execution_count": 1,
   "metadata": {},
   "outputs": [],
   "source": [
    "#Dependencies list is not minimal \n",
    "import pandas as pd\n",
    "import geopandas as gpd\n",
    "import matplotlib.pyplot as plt\n",
    "import matplotlib\n",
    "from sklearn.cluster import KMeans\n",
    "import scipy.stats as stats\n",
    "from yellowbrick.cluster import KElbowVisualizer, SilhouetteVisualizer\n",
    "from sklearn.metrics import silhouette_samples, silhouette_score\n",
    "import numpy as np\n",
    "from datetime import datetime, date\n",
    "import math\n",
    "import random\n",
    "from sklearn.experimental import enable_iterative_imputer\n",
    "from sklearn.impute import IterativeImputer\n",
    "from matplotlib import colors\n",
    "\n",
    "pd.set_option('display.max_columns', None)\n"
   ]
  },
  {
   "cell_type": "code",
   "execution_count": 2,
   "metadata": {},
   "outputs": [],
   "source": [
    "years = pd.read_csv('https://raw.githubusercontent.com/Aser-Abdelfatah/Portugal-Wildfire-Research/main/Portugal_Dataset_Extraction/data/data_climate.csv', index_col=None)\n",
    "years\n"
   ]
  },
  {
   "cell_type": "code",
   "execution_count": 3,
   "metadata": {},
   "outputs": [
    {
     "name": "stdout",
     "output_type": "stream",
     "text": [
      "x 0\n",
      "y 0\n",
      "time 0\n",
      "aspect 0\n",
      "burned_areas 0\n",
      "curvature 0\n",
      "d2m 651\n",
      "dem 0\n",
      "ignition_points 0\n",
      "lai 121\n",
      "lc_agriculture 0\n",
      "lc_forest 0\n",
      "lc_grassland 0\n",
      "lc_settlement 0\n",
      "lc_shrubland 0\n",
      "lc_sparse_vegetation 0\n",
      "lc_water_bodies 0\n",
      "lc_wetland 0\n",
      "lst_day 5440\n",
      "lst_night 6998\n",
      "ndvi 11\n",
      "population 1\n",
      "rh 651\n",
      "roads_distance 0\n",
      "slope 0\n",
      "smi 2079\n",
      "sp 651\n",
      "ssrd 651\n",
      "t2m 651\n",
      "tp 651\n",
      "wind_direction 118\n",
      "wind_speed 651\n",
      "year 0\n",
      "month 0\n",
      "day 0\n",
      "day_of_the_year 0\n",
      "cos_day_of_the_year 0\n",
      "sin_day_of_the_year 0\n",
      "x_int 0\n",
      "y_int 0\n",
      "repetitions 0\n",
      "d2m_mean 651\n",
      "wind_speed_mean 651\n",
      "wind_direction_mean 118\n",
      "sp_mean 651\n",
      "ssrd_mean 651\n",
      "t2m_mean 651\n",
      "tp_mean 651\n",
      "rh_mean 651\n",
      "lst_day_mean 19\n",
      "lst_night_mean 19\n"
     ]
    }
   ],
   "source": [
    "# print number of missing values for each column\n",
    "cols = years.columns\n",
    "for val in cols:\n",
    "    print(val, years[val].isna().sum())"
   ]
  },
  {
   "cell_type": "code",
   "execution_count": 5,
   "metadata": {},
   "outputs": [],
   "source": [
    "# adds cosine and sin for month \n",
    "years_2 = years.copy(deep=True)\n",
    "for index1, row1, in years_2.iterrows():\n",
    "    month =  row1['month']\n",
    "    years_2.at[index1, 'cos_month'] = math.cos(month * 2 * math.pi/12)\n",
    "    years_2.at[index1, 'sin_month'] = math.sin(month * 2 * math.pi/12)"
   ]
  },
  {
   "cell_type": "code",
   "execution_count": 6,
   "metadata": {},
   "outputs": [],
   "source": [
    "# drop irrelevat columns before doing data imputation\n",
    "cols = [ 'time', 'repetitions', 'day_of_the_year', 'x_int', 'y_int', 'day', 'month', 'burned_areas', 'roads_distance']\n",
    "years_2 = years_2.drop(columns=cols)\n",
    "imputer = IterativeImputer(random_state=1, imputation_order = 'ascending')\n",
    "imputed = imputer.fit_transform(years_2)\n",
    "years_2 = pd.DataFrame(imputed, columns=years_2.columns)\n",
    "\n",
    "# appending irrelevant columns back\n",
    "for val in cols:\n",
    "    years_2[val] = years[val]\n",
    "    \n",
    "\n",
    "years_2"
   ]
  }
 ],
 "metadata": {
  "kernelspec": {
   "display_name": "nnproject",
   "language": "python",
   "name": "python3"
  },
  "language_info": {
   "codemirror_mode": {
    "name": "ipython",
    "version": 3
   },
   "file_extension": ".py",
   "mimetype": "text/x-python",
   "name": "python",
   "nbconvert_exporter": "python",
   "pygments_lexer": "ipython3",
   "version": "3.9.16"
  },
  "orig_nbformat": 4
 },
 "nbformat": 4,
 "nbformat_minor": 2
}
